{
 "cells": [
  {
   "cell_type": "markdown",
   "metadata": {},
   "source": [
    "## Operadores - Actividad"
   ]
  },
  {
   "cell_type": "markdown",
   "metadata": {},
   "source": [
    "1) Pedir al usuario dos números y mostrar por pantalla la suma de ellos."
   ]
  },
  {
   "cell_type": "code",
   "execution_count": 3,
   "metadata": {},
   "outputs": [
    {
     "name": "stdout",
     "output_type": "stream",
     "text": [
      "144\n"
     ]
    }
   ],
   "source": [
    "a = int(input(\"INGRESE NUMERO A\"))\n",
    "b = int(input(\"INGRESE NUMERO B\"))\n",
    "c = a+b\n",
    "print(c)"
   ]
  },
  {
   "cell_type": "markdown",
   "metadata": {},
   "source": [
    "2) Calcular el perímetro y área de un rectángulo dada su base y su altura (el usuario debe introducir por teclado los dos valores)."
   ]
  },
  {
   "cell_type": "code",
   "execution_count": 8,
   "metadata": {},
   "outputs": [
    {
     "name": "stdout",
     "output_type": "stream",
     "text": [
      "14589.25 metros\n"
     ]
    }
   ],
   "source": [
    "base = float(input(\"INGRESE LA BASE DEL RECTANGULO\"))\n",
    "altura = float(input(\"INGRESE LA ALTURA\"))\n",
    "area = base * altura\n",
    "print(area,\"metros\")"
   ]
  },
  {
   "cell_type": "markdown",
   "metadata": {},
   "source": [
    "3) Calcular el resultado de elevar un número entero a otro número entero (por ejemplo, 5 elevado a 3 = 5^3 = 5*5*5)."
   ]
  },
  {
   "cell_type": "code",
   "execution_count": 9,
   "metadata": {},
   "outputs": [
    {
     "name": "stdout",
     "output_type": "stream",
     "text": [
      "81\n"
     ]
    }
   ],
   "source": [
    "base = int(input(\"INGRESE EL NUMERO A ELEVAR\"))\n",
    "exponente = int(input(\"INGRESE EL EXPONENTE\"))\n",
    "potencia = base ** exponente\n",
    "print(potencia)"
   ]
  },
  {
   "cell_type": "markdown",
   "metadata": {},
   "source": [
    "4) Escribe un programa que convierta grados Celsius a grados Fahrenheit utilizando la fórmula: **F = (C * 9/5) + 32**"
   ]
  },
  {
   "cell_type": "code",
   "execution_count": 12,
   "metadata": {},
   "outputs": [
    {
     "name": "stdout",
     "output_type": "stream",
     "text": [
      "HACEN: 122.0 grados Fahrenheit\n"
     ]
    }
   ],
   "source": [
    "Celsius = float(input(\"INGRESE LOS GRADOS\"))\n",
    "gradosF = (Celsius* (9/2))+32\n",
    "print(f\"HACEN: {gradosF} grados Fahrenheit\")"
   ]
  },
  {
   "cell_type": "markdown",
   "metadata": {},
   "source": [
    "5) Pedir al usuario su edad y mostrar por pantalla si es mayor de edad o no. (Mayor de edad >= 18)"
   ]
  },
  {
   "cell_type": "code",
   "execution_count": 13,
   "metadata": {},
   "outputs": [
    {
     "name": "stdout",
     "output_type": "stream",
     "text": [
      "ES MAYOT DE EDAD? True\n"
     ]
    }
   ],
   "source": [
    "edad = int(input(\"INGRESE EDAD\"))\n",
    "print(f\"ES MAYOT DE EDAD? {edad >=18}\")"
   ]
  },
  {
   "cell_type": "markdown",
   "metadata": {},
   "source": [
    "6) Comprobar si el numero ingresado por el usuario es par o impar."
   ]
  },
  {
   "cell_type": "code",
   "execution_count": 16,
   "metadata": {},
   "outputs": [
    {
     "name": "stdout",
     "output_type": "stream",
     "text": [
      "SU NUMERO ES PAR? False\n"
     ]
    }
   ],
   "source": [
    "numero = float(input(\"INGRESE UN NUMERO\"))\n",
    "b = numero%2\n",
    "c = b == 0 \n",
    "print(f\"SU NUMERO ES PAR? {c}\")"
   ]
  },
  {
   "cell_type": "markdown",
   "metadata": {},
   "source": [
    "7) Pedir al usuario que ingrese su dirección email y luego mostrar un mensaje indicando si la dirección es válida o no. Una dirección se considerará válida si contiene el símbolo \"@\"."
   ]
  },
  {
   "cell_type": "code",
   "execution_count": 18,
   "metadata": {},
   "outputs": [
    {
     "name": "stdout",
     "output_type": "stream",
     "text": [
      "Su mail es valido? True\n"
     ]
    }
   ],
   "source": [
    "a = str(input(\"INGRESE EL MAIL\"))\n",
    "\n",
    "print(f\"Su mail es valido? {\"@\" in a}\")"
   ]
  },
  {
   "cell_type": "markdown",
   "metadata": {},
   "source": [
    "8) Dado un número de dos cifras, diseñe un algoritmo que permita obtener el número invertido. Ejemplo, si se introduce 23 que muestre 32. (Recordar que las cadenas pueden tratarse como listas de caracteres)."
   ]
  },
  {
   "cell_type": "markdown",
   "metadata": {},
   "source": []
  },
  {
   "cell_type": "markdown",
   "metadata": {},
   "source": [
    "9) Crea un programa que pida al usuario dos números y muestre True si ambos son mayores que 10."
   ]
  },
  {
   "cell_type": "code",
   "execution_count": 5,
   "metadata": {},
   "outputs": [
    {
     "name": "stdout",
     "output_type": "stream",
     "text": [
      "True\n"
     ]
    }
   ],
   "source": [
    "numero1 = int(input(\"ingrese un numero\"))\n",
    "numero2 = int(input(\"ingrese un numero\"))\n",
    "\n",
    "if numero1> 10 and numero2> 10:\n",
    "    print(True)"
   ]
  },
  {
   "cell_type": "markdown",
   "metadata": {},
   "source": [
    "10) Escribe un programa que verifique si un número ingresado por el usuario es divisible por 3 y por 5."
   ]
  },
  {
   "cell_type": "code",
   "execution_count": 9,
   "metadata": {},
   "outputs": [
    {
     "name": "stdout",
     "output_type": "stream",
     "text": [
      "Válido\n"
     ]
    }
   ],
   "source": [
    "numero1 = int(input(\"ingrese un numero\"))\n",
    "\n",
    "if (numero1 % 5 == 0) and (numero1 % 3 == 0):\n",
    "    print(\"Válido\")\n",
    "else:\n",
    "    print(\"No válido\")"
   ]
  },
  {
   "cell_type": "markdown",
   "metadata": {},
   "source": [
    "11) Utilizando la información del punto 5, preguntar al usuario si posee carnet de conducir, luego verificar si puede conducir un automóvil."
   ]
  },
  {
   "cell_type": "code",
   "execution_count": 14,
   "metadata": {},
   "outputs": [
    {
     "name": "stdout",
     "output_type": "stream",
     "text": [
      "ES MAYOT DE EDAD? True\n",
      "SI puede manejar automovil\n"
     ]
    }
   ],
   "source": [
    "edad = int(input(\"INGRESE EDAD\"))\n",
    "print(f\"ES MAYOT DE EDAD? {edad >=18}\")\n",
    "\n",
    "if edad>= 18:\n",
    "    carnet = bool(input(\"True o False\"))\n",
    "    \n",
    "    if carnet == True: \n",
    "        print('SI puede manejar automovil')\n",
    "    else :\n",
    "        print('NO puede manejar automovil')\n",
    "\n",
    "else: \n",
    "    print(\"No puede sacar carnet\")"
   ]
  },
  {
   "cell_type": "markdown",
   "metadata": {},
   "source": [
    "12) Pide al usuario un número y verifica si es positivo y no es mayor que 100."
   ]
  },
  {
   "cell_type": "code",
   "execution_count": 15,
   "metadata": {},
   "outputs": [
    {
     "name": "stdout",
     "output_type": "stream",
     "text": [
      "invalido\n"
     ]
    }
   ],
   "source": [
    "numero = int(input(\"Ingrese numero\"))\n",
    "\n",
    "if numero > 0   and numero < 100:\n",
    "    print(\"valido\")\n",
    "else:\n",
    "    print(\"invalido\")\n"
   ]
  },
  {
   "cell_type": "markdown",
   "metadata": {},
   "source": [
    "13) Crear un programa que valide si un número ingresado por el usuario es par y mayor que 20."
   ]
  },
  {
   "cell_type": "code",
   "execution_count": 17,
   "metadata": {},
   "outputs": [
    {
     "name": "stdout",
     "output_type": "stream",
     "text": [
      "par y mayor a 20\n"
     ]
    }
   ],
   "source": [
    "numero = int(input(\"Ingrese numero\"))\n",
    "if (numero%2==0) and (numero> 20):\n",
    "    print(\"par y mayor a 20\")\n",
    "else: \n",
    "    print(\"invalido\")"
   ]
  },
  {
   "cell_type": "markdown",
   "metadata": {},
   "source": [
    "14) Dada la variable **numero = 5**, realizar la operación necesaria para que número sea igual a 8. Luego imprimir en pantalla el nuevo valor de número y realizar una nueva operación para que el valor de número sea igual a 4 y mostrar en pantalla el nuevo valor."
   ]
  },
  {
   "cell_type": "code",
   "execution_count": 25,
   "metadata": {},
   "outputs": [
    {
     "name": "stdout",
     "output_type": "stream",
     "text": [
      "8\n",
      "4\n"
     ]
    }
   ],
   "source": [
    "numero = 5\n",
    "\n",
    "\n",
    "while numero != 8: \n",
    "        numero = numero + 1\n",
    "print (numero)\n",
    "while numero!=4: \n",
    "        numero = numero - 1\n",
    "print(numero)   \n",
    "    "
   ]
  },
  {
   "cell_type": "markdown",
   "metadata": {},
   "source": [
    "15) Dadas las variables altura = \"10\" y base = 5, calcular el área de un triángulo y mostrar el resultado en pantalla. ¿Por qué el resultado es un error? ¿Cómo lo corregirías?"
   ]
  },
  {
   "cell_type": "code",
   "execution_count": 28,
   "metadata": {},
   "outputs": [
    {
     "name": "stdout",
     "output_type": "stream",
     "text": [
      "50\n"
     ]
    }
   ],
   "source": [
    "#altura = \"10\"\n",
    "#base = 5\n",
    "\n",
    "#triangulo = base * altura\n",
    "#print(triangulo)\n",
    "#da error debito a que altura es un string por lo tanto va a printear 5 veces el string 10\n",
    "\n",
    "######corregido\n",
    "altura = int('10')\n",
    "base = 5\n",
    "triangulo = base * altura\n",
    "print(triangulo)\n"
   ]
  },
  {
   "cell_type": "markdown",
   "metadata": {},
   "source": [
    "16) Crea un programa que calcule el promedio de tres calificaciones ingresadas por el usuario, y comprobar si el alumno aprobó o no (aprueba con nota mayor a 6)."
   ]
  },
  {
   "cell_type": "code",
   "execution_count": 32,
   "metadata": {},
   "outputs": [
    {
     "name": "stdout",
     "output_type": "stream",
     "text": [
      "63.333333333333336\n",
      "aprobado\n"
     ]
    }
   ],
   "source": [
    "prueba1 = int(input('ingrese nota 1'))\n",
    "prueba2 = int(input('ingrese nota 2'))\n",
    "prueba3 = int(input('ingrese nota 3'))\n",
    "\n",
    "total = (prueba1 + prueba2 + prueba3)/3\n",
    "print(total)\n",
    "if total >= 60:\n",
    "    print('aprobado')\n",
    "else: \n",
    "    print('desaprobado')"
   ]
  },
  {
   "cell_type": "markdown",
   "metadata": {},
   "source": [
    "17) Pide al usuario su edad y calcula cuántos días, horas y minutos ha vivido aproximadamente (asumiendo 365 días por año)."
   ]
  },
  {
   "cell_type": "code",
   "execution_count": 35,
   "metadata": {},
   "outputs": [
    {
     "name": "stdout",
     "output_type": "stream",
     "text": [
      "los dias son 18250, en horas 438000hs, en minutos 26280000min\n"
     ]
    }
   ],
   "source": [
    "edad = int(input('ingresar edad'))\n",
    "\n",
    "dias = edad * 365\n",
    "horas = dias * 24\n",
    "minutos = horas * 60\n",
    "\n",
    "print(f\"los dias son {dias}, en horas {horas}hs, en minutos {minutos}min\")\n"
   ]
  },
  {
   "cell_type": "markdown",
   "metadata": {},
   "source": [
    "18) Crea un programa que verifique si un número ingresado por el usuario es múltiplo de 4 y de 6 al mismo tiempo."
   ]
  },
  {
   "cell_type": "code",
   "execution_count": 45,
   "metadata": {},
   "outputs": [
    {
     "name": "stdout",
     "output_type": "stream",
     "text": [
      "72 es multiplo\n"
     ]
    }
   ],
   "source": [
    "numero = int(input())\n",
    "\n",
    "if (numero%4 == 0) and (numero%6 == 0): \n",
    "    print(f\"{numero} es multiplo\")\n",
    "else: \n",
    "    print(f\"{numero} no es multiplo\")\n",
    "\n"
   ]
  },
  {
   "cell_type": "markdown",
   "metadata": {},
   "source": [
    "19) "
   ]
  }
 ],
 "metadata": {
  "kernelspec": {
   "display_name": "Python 3",
   "language": "python",
   "name": "python3"
  },
  "language_info": {
   "codemirror_mode": {
    "name": "ipython",
    "version": 3
   },
   "file_extension": ".py",
   "mimetype": "text/x-python",
   "name": "python",
   "nbconvert_exporter": "python",
   "pygments_lexer": "ipython3",
   "version": "3.12.0"
  }
 },
 "nbformat": 4,
 "nbformat_minor": 2
}
